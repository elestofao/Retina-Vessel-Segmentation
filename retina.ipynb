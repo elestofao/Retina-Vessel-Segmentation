{
  "cells": [
    {
      "cell_type": "markdown",
      "metadata": {
        "id": "DYM6IVbHywuE"
      },
      "source": [
        "# Project: Retinal vessel segmentation\n",
        "\n",
        "The segmentation of retinal blood vessels from eye fundus images is of great significance for early diagnosis of eye-related diseases such as diabetes and hypertension.\n",
        "\n",
        "The goal of this project is to read an eye fundus image like the following:\n",
        "![](https://dlsi.ua.es/~pertusa/tvainput21.png)\n",
        "\n",
        "And extract the blood vessels as can be seen in the corresponding ground-truth sample:\n",
        "\n",
        "![](https://dlsi.ua.es/~pertusa/tvagt21.png)\n",
        "\n",
        "All the images for this project are extracted from the [Drive](https://drive.grand-challenge.org) dataset.\n",
        "\n",
        "For this task you can use any computer vision technique **except by deep neural networks, that are not allowed in this project**.\n",
        "\n",
        "## Implementation\n",
        "\n",
        "To begin with the project, first download from moodle the folder with all the images and upload it to google drive.\n",
        "\n",
        "Then, import the following libraries (you can add more):"
      ]
    },
    {
      "cell_type": "code",
      "execution_count": null,
      "metadata": {
        "colab": {
          "base_uri": "https://localhost:8080/"
        },
        "id": "CE2C4CRgywuH",
        "outputId": "cff1b7b4-1254-4c64-acf7-fc5964bde61e"
      },
      "outputs": [],
      "source": [
        "import os\n",
        "from google.colab import drive\n",
        "import cv2 as cv\n",
        "\n",
        "drive.mount('/content/drive')\n",
        "\n",
        "%matplotlib inline\n",
        "from matplotlib import pyplot as plt\n",
        "\n",
        "db_path =  \"/content/drive/MyDrive/TVAProject\""
      ]
    },
    {
      "cell_type": "markdown",
      "metadata": {
        "id": "sx4AD5gdywuJ"
      },
      "source": [
        "Now you should edit the following function to segment the image and return the obtained segmentation. This is only a simple (basic) skeleton that obviously is not performing well. Your project's goal is basically to complete this function. You can read the attached papers in Moodle to get ideas for the segmentation."
      ]
    },
    {
      "cell_type": "code",
      "execution_count": null,
      "metadata": {
        "id": "DZNvb2duywuJ"
      },
      "outputs": [],
      "source": [
        "def vessel_segmentation(input_image):\n",
        "\n",
        "    img = cv.imread(input_image, cv.IMREAD_GRAYSCALE)\n",
        "\n",
        "    # TODO: Here it goes your segmentation algorithm. A basic threholding is shown as example.\n",
        "    th, segmented_image = cv.threshold(img, 128, 255, cv.THRESH_BINARY)\n",
        "\n",
        "    return segmented_image"
      ]
    },
    {
      "cell_type": "markdown",
      "metadata": {
        "id": "-7wF9hwOywuK"
      },
      "source": [
        "Your project will be evaluated with the Intersection over Union (IoU) metric, commonly used in segmentation tasks. This is the function to read a ground truth image and return the IoU considering your segmented image."
      ]
    },
    {
      "cell_type": "code",
      "execution_count": null,
      "metadata": {
        "id": "-ACtuRqqywuK"
      },
      "outputs": [],
      "source": [
        "def single_IoU(img_name):\n",
        "\n",
        "    # Apply segmentation\n",
        "    input_img = os.path.join(db_path, 'input', img_name)\n",
        "    obtained = vessel_segmentation(input_img)\n",
        "\n",
        "    # Path of the target (ground truth) image\n",
        "    path_target = os.path.join(db_path, 'gt', img_name)\n",
        "    solution = cv.imread(path_target, cv.IMREAD_GRAYSCALE)\n",
        "\n",
        "    # Show obtained results\n",
        "    plt.imshow(obtained, cmap=plt.get_cmap('gray'))\n",
        "    plt.show()\n",
        "\n",
        "    # IoU calculation\n",
        "    intersectionAB = cv.countNonZero(obtained & solution)\n",
        "    unionAB = cv.countNonZero(obtained | solution)\n",
        "    score = intersectionAB / unionAB\n",
        "    print(\"Image {} - IoU={}\".format(path_input, score))\n",
        "\n",
        "    return score"
      ]
    },
    {
      "cell_type": "markdown",
      "metadata": {
        "id": "qeUbUDGaywuL"
      },
      "source": [
        "This is the evaluation method that reads all the images from the input folder and gets the mean IoU for all of them. This is the score of your project, the higher the better."
      ]
    },
    {
      "cell_type": "code",
      "execution_count": null,
      "metadata": {
        "colab": {
          "base_uri": "https://localhost:8080/",
          "height": 1000
        },
        "id": "e7kNwhHYywuL",
        "outputId": "d1e48623-20d6-4e4f-c00a-218064190d58"
      },
      "outputs": [],
      "source": [
        "\n",
        "meanIoU=0\n",
        "\n",
        "path_input = os.path.join(db_path, 'input')\n",
        "\n",
        "# List images in input folder\n",
        "imgs = [f for f in os.listdir(path_input) if f.endswith('.png')]\n",
        "print(imgs)\n",
        "\n",
        "# For each image\n",
        "for img in imgs:\n",
        "    meanIoU += single_IoU(img)\n",
        "\n",
        "# Average\n",
        "meanIoU /= len(imgs)\n",
        "print(\"------------------------------------\")\n",
        "print(\"Mean IoU={}\".format(meanIoU))\n"
      ]
    }
  ],
  "metadata": {
    "colab": {
      "provenance": []
    },
    "kernelspec": {
      "display_name": "vision",
      "language": "python",
      "name": "python3"
    },
    "language_info": {
      "codemirror_mode": {
        "name": "ipython",
        "version": 3
      },
      "file_extension": ".py",
      "mimetype": "text/x-python",
      "name": "python",
      "nbconvert_exporter": "python",
      "pygments_lexer": "ipython3",
      "version": "3.10.2"
    }
  },
  "nbformat": 4,
  "nbformat_minor": 0
}
